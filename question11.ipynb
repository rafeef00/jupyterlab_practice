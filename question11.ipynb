{
 "cells": [
  {
   "cell_type": "markdown",
   "id": "12650242-f03f-4b77-9a94-3aaac8055a56",
   "metadata": {},
   "source": [
    "# Raeesah Afeefah\n",
    "Notebook for assignment 7"
   ]
  },
  {
   "cell_type": "code",
   "execution_count": 1,
   "id": "d67fca3a-15dd-4585-a6f9-433d0211968a",
   "metadata": {},
   "outputs": [
    {
     "name": "stdout",
     "output_type": "stream",
     "text": [
      "The mean of the list is: 5.0\n"
     ]
    },
    {
     "data": {
      "text/plain": [
       "5.0"
      ]
     },
     "execution_count": 1,
     "metadata": {},
     "output_type": "execute_result"
    }
   ],
   "source": [
    "def compute_mean(values):\n",
    "    mean_value = sum(values) / len(values)\n",
    "    print(f\"The mean of the list is: {mean_value}\")\n",
    "    return mean_value\n",
    "\n",
    "compute_mean([2, 4, 6, 8])"
   ]
  },
  {
   "cell_type": "markdown",
   "id": "80877a83-127f-473d-b203-ea5ef56f627f",
   "metadata": {},
   "source": [
    "The above code calculates the mean of a list of values. \n",
    "Here are two different ways of expressing the equation of the mean:\n",
    "\n",
    "$$\n",
    "Mean = ( \\frac{1}{n} \\sum_{i=i}^{n} x_{i})\n",
    "$$\n",
    "\n",
    "$$\n",
    "{\\displaystyle X={\\frac {1}{n}}\\sum _{i=1}^{n}x_{i}={\\frac {x_{1}+x_{2}+\\cdots +x_{n}}{n}}}\n",
    "$$"
   ]
  },
  {
   "cell_type": "raw",
   "id": "579eb1ae-88b4-41ac-b87e-d84cdad05c80",
   "metadata": {},
   "source": []
  },
  {
   "cell_type": "code",
   "execution_count": null,
   "id": "adc5c8a5-5ebc-40b7-9941-f962a81e27c2",
   "metadata": {},
   "outputs": [],
   "source": []
  }
 ],
 "metadata": {
  "kernelspec": {
   "display_name": "Python [conda env:base] *",
   "language": "python",
   "name": "conda-base-py"
  },
  "language_info": {
   "codemirror_mode": {
    "name": "ipython",
    "version": 3
   },
   "file_extension": ".py",
   "mimetype": "text/x-python",
   "name": "python",
   "nbconvert_exporter": "python",
   "pygments_lexer": "ipython3",
   "version": "3.12.3"
  }
 },
 "nbformat": 4,
 "nbformat_minor": 5
}
